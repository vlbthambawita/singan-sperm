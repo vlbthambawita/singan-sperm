{
 "metadata": {
  "language_info": {
   "codemirror_mode": {
    "name": "ipython",
    "version": 3
   },
   "file_extension": ".py",
   "mimetype": "text/x-python",
   "name": "python",
   "nbconvert_exporter": "python",
   "pygments_lexer": "ipython3",
   "version": "3.8.3-final"
  },
  "orig_nbformat": 2,
  "kernelspec": {
   "name": "python3",
   "display_name": "Python 3"
  }
 },
 "nbformat": 4,
 "nbformat_minor": 2,
 "cells": [
  {
   "cell_type": "code",
   "execution_count": 28,
   "metadata": {},
   "outputs": [],
   "source": [
    "from skimage import io as img\n",
    "import matplotlib.pyplot as plt\n",
    "import numpy as np\n",
    "from tqdm import tqdm\n",
    "import glob\n",
    "import os"
   ]
  },
  {
   "cell_type": "code",
   "execution_count": 29,
   "metadata": {},
   "outputs": [],
   "source": [
    "image_dir = \"/work/vajira/DATA/hyper_kvasir/data_new/segmented_train_val/data/segmented-images/train/images\"\n",
    "mask_dir = \"/work/vajira/DATA/hyper_kvasir/data_new/segmented_train_val/data/segmented-images/train/masks\"\n",
    "\n",
    "output_dir = \"/work/vajira/DATA/hyper_kvasir/data_new/segmented_train_val/data/img_and_mask_together\""
   ]
  },
  {
   "cell_type": "code",
   "execution_count": null,
   "metadata": {},
   "outputs": [],
   "source": []
  },
  {
   "cell_type": "code",
   "execution_count": 30,
   "metadata": {},
   "outputs": [],
   "source": [
    "# Make a 4 chennel image using polyp image and corresponding maks\n",
    "def make_4_chs_img(image_path, mask_path):\n",
    "    im = img.imread(image_path)\n",
    "    mask = img.imread(mask_path)\n",
    "\n",
    "    return np.concatenate((im, mask[:,:,0:1]), axis=2)"
   ]
  },
  {
   "cell_type": "code",
   "execution_count": 31,
   "metadata": {},
   "outputs": [],
   "source": [
    "def combine_image_with_mask(image_dir, mask_dir, out_dir):\n",
    "\n",
    "    all_img_paths = glob.glob(image_dir + \"/*\")\n",
    "\n",
    "    for img_path in tqdm(all_img_paths):\n",
    "\n",
    "        img_name = img_path.split(\"/\")[-1]\n",
    "        mask_path = os.path.join(mask_dir, img_name)\n",
    "\n",
    "        img_4_chs = make_4_chs_img(img_path, mask_path)\n",
    "\n",
    "        img.imsave(os.path.join(out_dir, img_name[:-4] + \".png\"), img_4_chs)\n",
    "\n",
    "\n"
   ]
  },
  {
   "cell_type": "code",
   "execution_count": 32,
   "metadata": {},
   "outputs": [
    {
     "output_type": "stream",
     "name": "stderr",
     "text": [
      "100%|██████████| 800/800 [08:44<00:00,  1.52it/s]\n"
     ]
    }
   ],
   "source": [
    "combine_image_with_mask(image_dir, mask_dir, output_dir)"
   ]
  },
  {
   "cell_type": "code",
   "execution_count": null,
   "metadata": {},
   "outputs": [],
   "source": []
  }
 ]
}
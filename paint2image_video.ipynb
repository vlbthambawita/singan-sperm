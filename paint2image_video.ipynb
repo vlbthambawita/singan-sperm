{
 "metadata": {
  "language_info": {
   "codemirror_mode": {
    "name": "ipython",
    "version": 3
   },
   "file_extension": ".py",
   "mimetype": "text/x-python",
   "name": "python",
   "nbconvert_exporter": "python",
   "pygments_lexer": "ipython3",
   "version": "3.6.12-final"
  },
  "orig_nbformat": 2,
  "kernelspec": {
   "name": "python3",
   "display_name": "Python 3.6.12 64-bit ('pytorch-new': conda)",
   "metadata": {
    "interpreter": {
     "hash": "f0508198cc32be70f2287017e0d43920b7d5d10dc7d4d838e9aa35b34f70dfbb"
    }
   }
  }
 },
 "nbformat": 4,
 "nbformat_minor": 2,
 "cells": [
  {
   "cell_type": "code",
   "execution_count": 1,
   "metadata": {},
   "outputs": [],
   "source": [
    "import matplotlib.pyplot as plt\n",
    "from skimage import color, io, exposure\n",
    "import cv2\n",
    "from tqdm import tqdm "
   ]
  },
  {
   "cell_type": "code",
   "execution_count": 2,
   "metadata": {},
   "outputs": [],
   "source": [
    "from config import get_arguments\n",
    "from SinGAN.manipulate import *\n",
    "from SinGAN.training import *\n",
    "from SinGAN.imresize import imresize\n",
    "from SinGAN.imresize import imresize_to_shape\n",
    "import SinGAN.functions as functions"
   ]
  },
  {
   "cell_type": "code",
   "execution_count": 3,
   "metadata": {},
   "outputs": [],
   "source": [
    "# R_1004_11.02.03_1_HH.avi - sample_1\n",
    "# R1_619_12.09.19_1_jma.avi - sample_2\n",
    "# R1_709_09.01.26_1_SSW.avi - sample_3\n"
   ]
  },
  {
   "cell_type": "code",
   "execution_count": 4,
   "metadata": {},
   "outputs": [],
   "source": [
    "in_video_path = \"/home/vajira/simula/data/R_1004_11.02.03_1_HH.avi\"\n",
    "out_video_path = \"/home/vajira/simula/data/new_sample_1_scale_5.avi\""
   ]
  },
  {
   "cell_type": "code",
   "execution_count": 5,
   "metadata": {},
   "outputs": [],
   "source": [
    "parser = get_arguments()\n",
    "parser.add_argument('--input_dir', help='input image dir', default='Input/Images')\n",
    "parser.add_argument('--input_name', help='training image name', required=False, default=\"dot_sperm_old_to_new_3ch.png\") # added default by vajira\n",
    "parser.add_argument('--ref_dir', help='input reference dir', default='Input/Paint')\n",
    "parser.add_argument('--ref_name', help='reference image name', required=False, default=\"sperm_6_3ch_gray.png\")\n",
    "parser.add_argument('--paint_start_scale', help='paint injection scale', type=int, required=False, default=5) # added default by vajira\n",
    "parser.add_argument('--quantization_flag', help='specify if to perform color quantization training', type=bool, default=False)\n",
    "parser.add_argument('--mode', help='task to be done', default='paint2image')\n",
    "opt = parser.parse_args(\"\")"
   ]
  },
  {
   "cell_type": "code",
   "execution_count": 6,
   "metadata": {},
   "outputs": [
    {
     "output_type": "execute_result",
     "data": {
      "text/plain": [
       "Namespace(Dsteps=3, Gsteps=3, alpha=10, beta1=0.5, gamma=0.1, input_dir='Input/Images', input_name='dot_sperm_old_to_new_3ch.png', ker_size=3, lambda_grad=0.1, lr_d=0.0005, lr_g=0.0005, manualSeed=None, max_size=250, min_nfc=32, min_size=25, mode='paint2image', nc_im=3, nc_z=3, netD='', netG='', nfc=32, niter=2000, noise_amp=0.1, not_cuda=0, num_layer=5, out='Output', padd_size=0, paint_start_scale=4, quantization_flag=False, ref_dir='Input/Paint', ref_name='sperm_6_3ch_gray.png', scale_factor=0.75, stride=1)"
      ]
     },
     "metadata": {},
     "execution_count": 6
    }
   ],
   "source": [
    "opt"
   ]
  },
  {
   "cell_type": "code",
   "execution_count": 7,
   "metadata": {},
   "outputs": [],
   "source": [
    "def convert_single_frame_to_paint(frame, opt, real):\n",
    "    #opt = functions.post_config(opt)\n",
    "    #Gs = []\n",
    "    #Zs = []\n",
    "    #reals = []\n",
    "    #NoiseAmp = []\n",
    "    #dir2save = functions.generate_dir2save(opt)\n",
    "\n",
    "    #real = functions.read_image(opt)\n",
    "    #real = functions.adjust_scales2image(real, opt)\n",
    "    #Gs, Zs, reals, NoiseAmp = functions.load_trained_pyramid(opt)\n",
    "\n",
    "    # Handle Ref::\n",
    "    gray = cv2.cvtColor(frame, cv2.COLOR_BGR2GRAY)\n",
    "    gray_3ch = cv2.cvtColor(gray, cv2.COLOR_GRAY2RGB)\n",
    "\n",
    "    ref = functions.np2torch(gray_3ch, opt)\n",
    "    ref = ref[:,0:3,:,:]\n",
    "\n",
    "    if ref.shape[3] != real.shape[3]:\n",
    "        ref = imresize_to_shape(ref, [real.shape[2], real.shape[3]], opt)\n",
    "        ref = ref[:, :, :real.shape[2], :real.shape[3]]\n",
    "\n",
    "    N = len(reals) - 1\n",
    "    n = opt.paint_start_scale\n",
    "    in_s = imresize(ref, pow(opt.scale_factor, (N - n + 1)), opt)\n",
    "    in_s = in_s[:, :, :reals[n - 1].shape[2], :reals[n - 1].shape[3]]\n",
    "    in_s = imresize(in_s, 1 / opt.scale_factor, opt)\n",
    "    in_s = in_s[:, :, :reals[n].shape[2], :reals[n].shape[3]]\n",
    "\n",
    "    out = SinGAN_generate(Gs[n:], Zs[n:], reals, NoiseAmp[n:], opt, in_s, n=n, num_samples=1)\n",
    "    np_out = functions.convert_image_np(out.detach())\n",
    "    \n",
    "    #plt.imshow(np_out)\n",
    "    #print(np_out)\n",
    "    return np_out\n",
    "\n",
    "    \n",
    "\n",
    "\n"
   ]
  },
  {
   "cell_type": "code",
   "execution_count": 8,
   "metadata": {},
   "outputs": [
    {
     "output_type": "stream",
     "name": "stdout",
     "text": [
      "Random Seed:  4577\n"
     ]
    }
   ],
   "source": [
    "opt = functions.post_config(opt)\n",
    "Gs = []\n",
    "Zs = []\n",
    "reals = []\n",
    "NoiseAmp = []\n",
    "dir2save = functions.generate_dir2save(opt)"
   ]
  },
  {
   "cell_type": "code",
   "execution_count": 9,
   "metadata": {},
   "outputs": [
    {
     "output_type": "stream",
     "name": "stdout",
     "text": [
      "X shape= (1562, 2090, 3)\nx after imread=== (1562, 2090, 3)\n"
     ]
    }
   ],
   "source": [
    "real = functions.read_image(opt)\n",
    "real = functions.adjust_scales2image(real, opt)\n",
    "Gs, Zs, reals, NoiseAmp = functions.load_trained_pyramid(opt)"
   ]
  },
  {
   "cell_type": "code",
   "execution_count": 10,
   "metadata": {},
   "outputs": [],
   "source": [
    "def track_sperm(video_path, number_of_frames, out_video_path):\n",
    "    \n",
    "    cap = cv2.VideoCapture(video_path)\n",
    "\n",
    "    fourcc = cv2.VideoWriter_fourcc(*'XVID')\n",
    "    out = cv2.VideoWriter(out_video_path, fourcc, 20.0, (800,598))\n",
    "\n",
    "    # Model loading\n",
    "    \n",
    "\n",
    "    for i in tqdm(range(number_of_frames)):\n",
    "\n",
    "        ret, frame = cap.read()\n",
    "\n",
    "        out_frame = convert_single_frame_to_paint(frame, opt, real)\n",
    "\n",
    "        # rescaling for video\n",
    "        scale_percent = 320 # percent of original size\n",
    "        width = int(out_frame.shape[1] * scale_percent / 100)\n",
    "        height = int(out_frame.shape[0] * scale_percent / 100)\n",
    "        dim = (width, height)\n",
    "  \n",
    "        # resize image\n",
    "        out_frame = cv2.resize(out_frame, dim, interpolation = cv2.INTER_AREA)\n",
    "\n",
    "        #print(out_frame.shape)\n",
    "        out_frame = out_frame * 255\n",
    "\n",
    "        out.write(np.uint8(out_frame))\n",
    "\n",
    "        #plt.imshow(out_frame)\n",
    "\n",
    "        #break\n",
    "   \n",
    "    cap.release()\n",
    "    out.release()\n",
    "    print(\"check pass\")\n"
   ]
  },
  {
   "cell_type": "code",
   "execution_count": 11,
   "metadata": {},
   "outputs": [],
   "source": [
    "#plt.imshow(out_frame)"
   ]
  },
  {
   "cell_type": "code",
   "execution_count": 12,
   "metadata": {},
   "outputs": [
    {
     "output_type": "stream",
     "name": "stderr",
     "text": [
      "100%|██████████| 1000/1000 [00:56<00:00, 17.56it/s]check pass\n",
      "\n"
     ]
    }
   ],
   "source": [
    "track_sperm(in_video_path, 1000, out_video_path)"
   ]
  },
  {
   "cell_type": "code",
   "execution_count": null,
   "metadata": {},
   "outputs": [],
   "source": []
  }
 ]
}